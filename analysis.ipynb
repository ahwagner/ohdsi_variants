{
 "cells": [
  {
   "cell_type": "code",
   "execution_count": 1,
   "metadata": {},
   "outputs": [],
   "source": [
    "from civicpy import civic\n",
    "import requests\n",
    "import csv"
   ]
  },
  {
   "cell_type": "code",
   "execution_count": 2,
   "metadata": {},
   "outputs": [],
   "source": [
    "civic.load_cache(on_stale='ignore')\n",
    "variants = civic.get_all_variants()"
   ]
  },
  {
   "cell_type": "code",
   "execution_count": 3,
   "metadata": {},
   "outputs": [],
   "source": [
    "def collapse_civic_coordinates(civic_variant):\n",
    "    coordinates = v.coordinates\n",
    "    if not coordinates.chromosome:\n",
    "        return ''\n",
    "    c1 = f'{coordinates.chromosome}:{coordinates.start}-{coordinates.stop}'\n",
    "    if coordinates.chromosome2:\n",
    "        c2 = f'{coordinates.chromosome2}:{coordinates.start2}-{coordinates.stop2}'\n",
    "        return ','.join([c1,c2])\n",
    "    return c1\n",
    "\n",
    "header = [\n",
    "    'gene_symbol',\n",
    "    'entrez_id',\n",
    "    'civic_variant_name',\n",
    "    'civic_variant_id',\n",
    "    'civic_aliases',\n",
    "    'allele_registry_id',\n",
    "    'genomic_coordinates',\n",
    "    'genomic_ref',\n",
    "    'genomic_alt',\n",
    "#     'primary_form',\n",
    "#     'primary_form_vrs',\n",
    "]"
   ]
  },
  {
   "cell_type": "code",
   "execution_count": 4,
   "metadata": {},
   "outputs": [
    {
     "data": {
      "text/plain": [
       "2565"
      ]
     },
     "execution_count": 4,
     "metadata": {},
     "output_type": "execute_result"
    }
   ],
   "source": [
    "len(variants)"
   ]
  },
  {
   "cell_type": "code",
   "execution_count": 5,
   "metadata": {},
   "outputs": [],
   "source": [
    "variant_types = dict()\n",
    "for v in variants:\n",
    "    for v_type in v.types:\n",
    "        variant_types[v_type.name] = v_type\n",
    "        \n",
    "fusion_type = variant_types['transcript_fusion']"
   ]
  },
  {
   "cell_type": "code",
   "execution_count": 6,
   "metadata": {},
   "outputs": [],
   "source": [
    "allowed_type_names = [\n",
    "    'missense_variant',\n",
    "    'frameshift_truncation',\n",
    "    'stop_gained',\n",
    "    'frameshift_variant',\n",
    "    'inframe_deletion',\n",
    "    'inframe_insertion',\n",
    "    'splice_donor_variant',\n",
    "    'synonymous_variant',\n",
    "    'polymorphic_sequence_variant',\n",
    "    'stop_lost',\n",
    "    'start_lost',\n",
    "    'SNP',\n",
    "    'frameshift_elongation'\n",
    "]\n",
    "\n",
    "allowed_types = set([\n",
    "    variant_types[x] for x in allowed_type_names\n",
    "])"
   ]
  },
  {
   "cell_type": "code",
   "execution_count": 7,
   "metadata": {},
   "outputs": [],
   "source": [
    "def is_small_MNV_or_indel(variant):\n",
    "    c = variant.coordinates\n",
    "    if '-' in variant.name or 'ZYGO' in variant.name:\n",
    "        return False\n",
    "    if not allowed_types.intersection(variant.types):\n",
    "        return False\n",
    "    if fusion_type in variant.types:\n",
    "        return False\n",
    "    if c.chromosome2:\n",
    "        return False\n",
    "    if not (c.chromosome and c.start and c.stop):\n",
    "        return False\n",
    "    if c.stop - c.start >= 25:\n",
    "        return False\n",
    "    if not (c.reference_bases or c.variant_bases):\n",
    "        return False\n",
    "    return True\n",
    "\n",
    "def is_tier_i_evidence(variant):\n",
    "    tier_i = False\n",
    "    for e in variant.evidence:\n",
    "        if e.evidence_level in ['A','B']:\n",
    "            tier_i = True\n",
    "    return tier_i"
   ]
  },
  {
   "cell_type": "code",
   "execution_count": 8,
   "metadata": {},
   "outputs": [],
   "source": [
    "with open('civic.2020-06-30.tsv', 'w') as f:\n",
    "    writer = csv.DictWriter(f, fieldnames=header, delimiter='\\t')\n",
    "    writer.writeheader()\n",
    "    for v in variants:\n",
    "        if not (is_small_MNV_or_indel(v) and is_tier_i_evidence(v)):\n",
    "            continue\n",
    "        record = {\n",
    "            'gene_symbol': v.gene.name,\n",
    "            'entrez_id': v.gene.entrez_id,\n",
    "            'civic_variant_name': v.name,\n",
    "            'civic_variant_id': v.id,\n",
    "            'civic_aliases': ','.join(v.aliases),\n",
    "            'allele_registry_id': v.allele_registry_id,\n",
    "            'genomic_coordinates': collapse_civic_coordinates(v),\n",
    "            'genomic_ref': v.coordinates.reference_bases,\n",
    "            'genomic_alt': v.coordinates.variant_bases,\n",
    "#             'primary_form': '',\n",
    "#             'primary_form_vrs': ''\n",
    "        }\n",
    "        writer.writerow(record)"
   ]
  },
  {
   "cell_type": "code",
   "execution_count": null,
   "metadata": {},
   "outputs": [],
   "source": []
  }
 ],
 "metadata": {
  "kernelspec": {
   "display_name": "Python 3",
   "language": "python",
   "name": "python3"
  },
  "language_info": {
   "codemirror_mode": {
    "name": "ipython",
    "version": 3
   },
   "file_extension": ".py",
   "mimetype": "text/x-python",
   "name": "python",
   "nbconvert_exporter": "python",
   "pygments_lexer": "ipython3",
   "version": "3.8.3"
  }
 },
 "nbformat": 4,
 "nbformat_minor": 4
}
