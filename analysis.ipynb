{
 "cells": [
  {
   "cell_type": "code",
   "execution_count": 1,
   "metadata": {},
   "outputs": [],
   "source": [
    "from civicpy import civic\n",
    "import requests\n",
    "import csv"
   ]
  },
  {
   "cell_type": "code",
   "execution_count": 2,
   "metadata": {},
   "outputs": [],
   "source": [
    "variants = civic.get_all_variants()"
   ]
  },
  {
   "cell_type": "code",
   "execution_count": 3,
   "metadata": {},
   "outputs": [],
   "source": [
    "def collapse_civic_coordinates(civic_variant):\n",
    "    coordinates = v.coordinates\n",
    "    if not coordinates.chromosome:\n",
    "        return ''\n",
    "    c1 = f'{coordinates.chromosome}:{coordinates.start}-{coordinates.stop}'\n",
    "    if coordinates.chromosome2:\n",
    "        c2 = f'{coordinates.chromosome2}:{coordinates.start2}-{coordinates.stop2}'\n",
    "        return ','.join([c1,c2])\n",
    "    return c1\n",
    "\n",
    "header = [\n",
    "    'gene_symbol',\n",
    "    'entrez_id',\n",
    "    'civic_variant_name',\n",
    "    'civic_variant_id',\n",
    "    'civic_aliases',\n",
    "    'allele_registry_id',\n",
    "    'genomic_coordinates',\n",
    "    'genomic_ref',\n",
    "    'genomic_alt',\n",
    "#     'primary_form',\n",
    "#     'primary_form_vrs',\n",
    "]\n",
    "\n",
    "with open('civic.2020-06-24.tsv', 'w') as f:\n",
    "    writer = csv.DictWriter(f, fieldnames=header, delimiter='\\t')\n",
    "    writer.writeheader()\n",
    "    for v in variants:\n",
    "        record = {\n",
    "            'gene_symbol': v.gene.name,\n",
    "            'entrez_id': v.gene.entrez_id,\n",
    "            'civic_variant_name': v.name,\n",
    "            'civic_variant_id': v.id,\n",
    "            'civic_aliases': ','.join(v.aliases),\n",
    "            'allele_registry_id': v.allele_registry_id,\n",
    "            'genomic_coordinates': collapse_civic_coordinates(v),\n",
    "            'genomic_ref': v.coordinates.reference_bases,\n",
    "            'genomic_alt': v.coordinates.variant_bases,\n",
    "#             'primary_form': '',\n",
    "#             'primary_form_vrs': ''\n",
    "        }\n",
    "        writer.writerow(record)"
   ]
  }
 ],
 "metadata": {
  "kernelspec": {
   "display_name": "Python 3",
   "language": "python",
   "name": "python3"
  },
  "language_info": {
   "codemirror_mode": {
    "name": "ipython",
    "version": 3
   },
   "file_extension": ".py",
   "mimetype": "text/x-python",
   "name": "python",
   "nbconvert_exporter": "python",
   "pygments_lexer": "ipython3",
   "version": "3.8.3"
  }
 },
 "nbformat": 4,
 "nbformat_minor": 4
}
